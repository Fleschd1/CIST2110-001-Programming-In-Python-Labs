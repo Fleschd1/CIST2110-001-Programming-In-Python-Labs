{
 "cells": [
  {
   "cell_type": "markdown",
   "metadata": {},
   "source": [
    "# Lab 8 - File I/O and Frankenstein\n",
    "### Name:\n",
    "This lab is designed to give you practice with file I/O and to give you a chance to work with a larger program.  You will be writing a program that will read in a text file and then create a new file that is a modified version of the original.  The program will then read in the modified file and print out some statistics about the file."
   ]
  },
  {
   "cell_type": "code",
   "execution_count": 1,
   "metadata": {},
   "outputs": [],
   "source": [
    "# Take in the Frankenstein text using open and read\n",
    "# Open the file\n",
    "with open(\"frankenstein.txt\", \"r\", encoding= \"utf8\") as file:\n",
    "    text = file.read()"
   ]
  },
  {
   "cell_type": "code",
   "execution_count": 6,
   "metadata": {},
   "outputs": [
    {
     "name": "stdout",
     "output_type": "stream",
     "text": [
      "The Project Gutenberg eBook of Frankenstein; Or, The Modern Prometheus\n",
      "    \n",
      "This ebook is for the use of anyone anywhere in the United States and\n",
      "most other parts of the world at no cost and with almost no restrictions\n",
      "whatsoever. You may copy it, give it away or re-use it under the terms\n",
      "of the Project Gutenberg License included with this ebook or online\n",
      "at www.gutenberg.org. If you are not located in the United States,\n",
      "you will have to check the laws of the country where you are located\n",
      "before using this eBook.\n",
      "\n",
      "Title: Frankenstein; Or, The Modern Prometheus\n",
      "\n",
      "\n",
      "Author: Mary Wollstonecraft Shelley\n",
      "\n",
      "Release date: October 1, 1993 [eBook #84]\n",
      "                Most recently updated: December 2, 2022\n",
      "\n",
      "Language: English\n",
      "\n",
      "Credits: Judith Boss, Christy Phillips, Lynn Hanninen and David Meltzer. HTML version by Al Haines.\n",
      "        Further corrections by Menno de Leeuw.\n",
      "\n",
      "\n",
      "*** START OF THE PROJECT GUTENBERG EBOOK FRANKENSTEIN; OR, THE MODERN PROMETHEUS ***\n",
      "\n",
      "\n",
      "\n",
      "Frankenstein;\n",
      "\n",
      "or, the Modern Prometheu\n"
     ]
    }
   ],
   "source": [
    "# Show the start of the file (first 1000 characters)\n",
    "# Note: Use slicing to get the first 1000 characters\n",
    "print(text[:1000])"
   ]
  },
  {
   "cell_type": "code",
   "execution_count": 7,
   "metadata": {},
   "outputs": [
    {
     "name": "stdout",
     "output_type": "stream",
     "text": [
      "visit: www.gutenberg.org/donate.\n",
      "\n",
      "Section 5. General Information About Project Gutenberg™ electronic works\n",
      "\n",
      "Professor Michael S. Hart was the originator of the Project\n",
      "Gutenberg™ concept of a library of electronic works that could be\n",
      "freely shared with anyone. For forty years, he produced and\n",
      "distributed Project Gutenberg™ eBooks with only a loose network of\n",
      "volunteer support.\n",
      "\n",
      "Project Gutenberg™ eBooks are often created from several printed\n",
      "editions, all of which are confirmed as not protected by copyright in\n",
      "the U.S. unless a copyright notice is included. Thus, we do not\n",
      "necessarily keep eBooks in compliance with any particular paper\n",
      "edition.\n",
      "\n",
      "Most people start at our website which has the main PG search\n",
      "facility: www.gutenberg.org.\n",
      "\n",
      "This website includes information about Project Gutenberg™,\n",
      "including how to make donations to the Project Gutenberg Literary\n",
      "Archive Foundation, how to help produce our new eBooks, and how to\n",
      "subscribe to our email newsletter to hear about new eBooks.\n",
      "\n",
      "\n"
     ]
    }
   ],
   "source": [
    "# Show the end of the file (last 1000 characters)\n",
    "# Note: Use slicing to get the last 1000 characters\n",
    "#  H  E  L  L  O\n",
    "#  0  1  2  3  4\n",
    "# -5 -4 -3 -2 -1\n",
    "print(text[-1000:])"
   ]
  },
  {
   "cell_type": "code",
   "execution_count": 2,
   "metadata": {},
   "outputs": [],
   "source": [
    "# Notice there is a lot of extra stuff at the beginning and end of the file (The header and footer)\n",
    "# Lets remove the header and footer\n",
    "# Create a method called remove_gutenberg_header_footer that takes in a string and returns a string\n",
    "# The method should remove the header and footer from the string\n",
    "# The method should return the string with the header and footer removed\n",
    "# Note: The header and footer are the same for all Gutenberg texts\n",
    "# Note: The header and footer are marked by the following strings:\n",
    "# *** START OF THE PROJECT GUTENBERG EBOOK FRANKENSTEIN; OR, THE MODERN PROMETHEUS ***\n",
    "# *** END OF THE PROJECT GUTENBERG EBOOK FRANKENSTEIN; OR, THE MODERN PROMETHEUS ***    \n",
    "\n",
    "def remove_gutenberg_header_footer(text):\n",
    "    start = text.find(\"*** START OF THE PROJECT GUTENBERG EBOOK FRANKENSTEIN; OR, THE MODERN PROMETHEUS ***\")\n",
    "    end = text.find('*** END OF THE PROJECT GUTENBERG EBOOK FRANKENSTEIN; OR, THE MODERN PROMETHEUS ***')\n",
    "\n",
    "    return text[start:end]\n",
    "# Call the remove_gutenberg_header_footer method with the text and save the result to a variable called text\n",
    "removed_text = remove_gutenberg_header_footer(text)\n"
   ]
  },
  {
   "cell_type": "code",
   "execution_count": 3,
   "metadata": {},
   "outputs": [
    {
     "name": "stdout",
     "output_type": "stream",
     "text": [
      "24\n",
      "7932\n"
     ]
    },
    {
     "data": {
      "text/plain": [
       "27"
      ]
     },
     "execution_count": 3,
     "metadata": {},
     "output_type": "execute_result"
    }
   ],
   "source": [
    "# Data Analysis\n",
    "# Now that we have the text, lets do some analysis\n",
    "# How many chapters are in the text?\n",
    "# Note: Each chapter starts with the text \"Chapter\" and then a number\n",
    "# Note: Use the count method to count the number of chapters but only in the first 1000 characters of the text\n",
    "# Note: There are 24 chapters \n",
    "# Note: Use slicing to get the first 1000 characters\n",
    "print(removed_text[:1000].count(\"Chapter\"))\n",
    "\n",
    "# Try to remove punctuation\n",
    "# Note: Use the replace method to replace punctuation with nothing\n",
    "# Note: Use the lower method to make the text lowercase\n",
    "# Note: Use the split method to split the text into words\n",
    "# remember methods can be chained together like this: text.replace().replace().replace().lower().split()\n",
    "cleaned_text = removed_text.replace('\"', \"\").replace(\",\", \"\").replace(\";\", \"\").replace(\":\", \"\").replace(\".\", \"\").lower().split()\n",
    "\n",
    "# How many unique words are in the text?\n",
    "# A unique word is a word that only appears once in the text\n",
    "# Note: Use the set method to get the unique words\n",
    "# Note: Use the len method to get the number of unique words\n",
    "unique_words = set(cleaned_text)\n",
    "print(len(unique_words))\n",
    "\n",
    "\n",
    "\n",
    "# How many times does the word \"monster\" appear in the text?\n",
    "# Note: Use the count method to count the number of times \"monster\" appears in the text\n",
    "cleaned_text.count(\"monster\")\n",
    "\n"
   ]
  },
  {
   "cell_type": "code",
   "execution_count": 5,
   "metadata": {},
   "outputs": [
    {
     "name": "stdout",
     "output_type": "stream",
     "text": [
      "[('the', 4155), ('and', 2958), ('i', 2758), ('of', 2639), ('to', 2082), ('my', 1751), ('a', 1382), ('in', 1122), ('was', 1020), ('that', 1003)]\n"
     ]
    }
   ],
   "source": [
    "## Get top 10 words in the text\n",
    "# Note: Use the Counter method to get the top 10 words\n",
    "# Note: Use the most_common method to get the top 10 words\n",
    "words = Counter(cleaned_text)\n",
    "top10 = words.most_common(10)\n",
    "\n",
    "# You will need to import Counter from collections to use the Counter method\n",
    "from collections import Counter \n",
    "# You might need to install collections using pip (in the terminal type: pip install collections)\n",
    "\n",
    "# Print the top 10 words in the text\n",
    "print(top10)\n"
   ]
  },
  {
   "cell_type": "code",
   "execution_count": 26,
   "metadata": {},
   "outputs": [
    {
     "name": "stdout",
     "output_type": "stream",
     "text": [
      "September 2d.\n",
      "\n",
      "\n",
      "\n"
     ]
    }
   ],
   "source": [
    "#### Extra Credit ####\n",
    "# Show me something interesting about the text that you found using python it can be anything\n",
    "\n",
    "# Something interesting I found in the text was a typo in the book saying \"September 2d\" instead of \"September 2nd\"\n",
    "# I made a little function like the header/footer function from the lab to find it in the text.\n",
    "def extra_cred(word):\n",
    "    end = text.find( \"I write to you\")\n",
    "    result = text.find(\"September 2d\")\n",
    "    return text[result:end]\n",
    "\n",
    "the_credit = extra_cred(removed_text)\n",
    "print(the_credit)"
   ]
  }
 ],
 "metadata": {
  "kernelspec": {
   "display_name": "venv",
   "language": "python",
   "name": "python3"
  },
  "language_info": {
   "codemirror_mode": {
    "name": "ipython",
    "version": 3
   },
   "file_extension": ".py",
   "mimetype": "text/x-python",
   "name": "python",
   "nbconvert_exporter": "python",
   "pygments_lexer": "ipython3",
   "version": "3.11.5"
  }
 },
 "nbformat": 4,
 "nbformat_minor": 2
}
